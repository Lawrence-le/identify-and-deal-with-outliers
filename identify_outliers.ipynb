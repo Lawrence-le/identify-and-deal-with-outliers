{
 "cells": [
  {
   "cell_type": "markdown",
   "metadata": {},
   "source": [
    "# Identify and deal with outliers"
   ]
  },
  {
   "cell_type": "markdown",
   "metadata": {},
   "source": [
    "## Objective\n",
    "\n",
    "I will be analyzing lightning strike data obtained from the National Oceanic and Atmospheric Administration (NOAA) spanning the years 1987 to 2020 for my project document. To manage the extensive dataset, which consists of millions of rows, I've undertaken preprocessing to streamline the information, retaining only the year and the corresponding count of lightning strikes.\n",
    "\n",
    "The primary objective of my project is to explore the variation in total lightning strike counts for each year and pinpoint any outliers within the dataset. Subsequently, I intend to visually represent the annual totals by creating a scatterplot for a more comprehensive understanding of the patterns over the examined period."
   ]
  },
  {
   "cell_type": "code",
   "execution_count": 47,
   "metadata": {},
   "outputs": [],
   "source": [
    "import matplotlib.pyplot as plt\n",
    "import pandas as pd\n",
    "import numpy as np\n",
    "import seaborn as sns"
   ]
  },
  {
   "cell_type": "code",
   "execution_count": 48,
   "metadata": {},
   "outputs": [],
   "source": [
    "# Read in data\n",
    "df = pd.read_csv('eda_outliers_dataset1.csv')"
   ]
  },
  {
   "cell_type": "code",
   "execution_count": 49,
   "metadata": {},
   "outputs": [
    {
     "data": {
      "text/html": [
       "<div>\n",
       "<style scoped>\n",
       "    .dataframe tbody tr th:only-of-type {\n",
       "        vertical-align: middle;\n",
       "    }\n",
       "\n",
       "    .dataframe tbody tr th {\n",
       "        vertical-align: top;\n",
       "    }\n",
       "\n",
       "    .dataframe thead th {\n",
       "        text-align: right;\n",
       "    }\n",
       "</style>\n",
       "<table border=\"1\" class=\"dataframe\">\n",
       "  <thead>\n",
       "    <tr style=\"text-align: right;\">\n",
       "      <th></th>\n",
       "      <th>year</th>\n",
       "      <th>number_of_strikes</th>\n",
       "    </tr>\n",
       "  </thead>\n",
       "  <tbody>\n",
       "    <tr>\n",
       "      <th>0</th>\n",
       "      <td>2020</td>\n",
       "      <td>15620068</td>\n",
       "    </tr>\n",
       "    <tr>\n",
       "      <th>1</th>\n",
       "      <td>2019</td>\n",
       "      <td>209166</td>\n",
       "    </tr>\n",
       "    <tr>\n",
       "      <th>2</th>\n",
       "      <td>2018</td>\n",
       "      <td>44600989</td>\n",
       "    </tr>\n",
       "    <tr>\n",
       "      <th>3</th>\n",
       "      <td>2017</td>\n",
       "      <td>35095195</td>\n",
       "    </tr>\n",
       "    <tr>\n",
       "      <th>4</th>\n",
       "      <td>2016</td>\n",
       "      <td>41582229</td>\n",
       "    </tr>\n",
       "    <tr>\n",
       "      <th>5</th>\n",
       "      <td>2015</td>\n",
       "      <td>37894191</td>\n",
       "    </tr>\n",
       "    <tr>\n",
       "      <th>6</th>\n",
       "      <td>2014</td>\n",
       "      <td>34919173</td>\n",
       "    </tr>\n",
       "    <tr>\n",
       "      <th>7</th>\n",
       "      <td>2013</td>\n",
       "      <td>27600898</td>\n",
       "    </tr>\n",
       "    <tr>\n",
       "      <th>8</th>\n",
       "      <td>2012</td>\n",
       "      <td>28807552</td>\n",
       "    </tr>\n",
       "    <tr>\n",
       "      <th>9</th>\n",
       "      <td>2011</td>\n",
       "      <td>31392058</td>\n",
       "    </tr>\n",
       "  </tbody>\n",
       "</table>\n",
       "</div>"
      ],
      "text/plain": [
       "   year  number_of_strikes\n",
       "0  2020           15620068\n",
       "1  2019             209166\n",
       "2  2018           44600989\n",
       "3  2017           35095195\n",
       "4  2016           41582229\n",
       "5  2015           37894191\n",
       "6  2014           34919173\n",
       "7  2013           27600898\n",
       "8  2012           28807552\n",
       "9  2011           31392058"
      ]
     },
     "execution_count": 49,
     "metadata": {},
     "output_type": "execute_result"
    }
   ],
   "source": [
    "# Print first 10 rows\n",
    "df.head(10)"
   ]
  },
  {
   "cell_type": "markdown",
   "metadata": {},
   "source": [
    "Convert the number of strikes value to a more readable format on the graph (e.g., converting 100,000 to 100K, 3,000,000 to 3M, and so on)."
   ]
  },
  {
   "cell_type": "code",
   "execution_count": 50,
   "metadata": {},
   "outputs": [],
   "source": [
    "def readable_numbers(x):\n",
    "    \"\"\"takes a large number and formats it into K,M to make it more readable\"\"\"\n",
    "    if x >= 1e6:\n",
    "        s = '{:1.1f}M'.format(x*1e-6)\n",
    "    else:\n",
    "        s = '{:1.0f}K'.format(x*1e-3)\n",
    "    return s\n",
    "\n",
    "# Use the readable_numbers() function to create a new column \n",
    "df['number_of_strikes_readable']=df['number_of_strikes'].apply(readable_numbers)"
   ]
  },
  {
   "cell_type": "code",
   "execution_count": 51,
   "metadata": {},
   "outputs": [
    {
     "data": {
      "text/html": [
       "<div>\n",
       "<style scoped>\n",
       "    .dataframe tbody tr th:only-of-type {\n",
       "        vertical-align: middle;\n",
       "    }\n",
       "\n",
       "    .dataframe tbody tr th {\n",
       "        vertical-align: top;\n",
       "    }\n",
       "\n",
       "    .dataframe thead th {\n",
       "        text-align: right;\n",
       "    }\n",
       "</style>\n",
       "<table border=\"1\" class=\"dataframe\">\n",
       "  <thead>\n",
       "    <tr style=\"text-align: right;\">\n",
       "      <th></th>\n",
       "      <th>year</th>\n",
       "      <th>number_of_strikes</th>\n",
       "      <th>number_of_strikes_readable</th>\n",
       "    </tr>\n",
       "  </thead>\n",
       "  <tbody>\n",
       "    <tr>\n",
       "      <th>0</th>\n",
       "      <td>2020</td>\n",
       "      <td>15620068</td>\n",
       "      <td>15.6M</td>\n",
       "    </tr>\n",
       "    <tr>\n",
       "      <th>1</th>\n",
       "      <td>2019</td>\n",
       "      <td>209166</td>\n",
       "      <td>209K</td>\n",
       "    </tr>\n",
       "    <tr>\n",
       "      <th>2</th>\n",
       "      <td>2018</td>\n",
       "      <td>44600989</td>\n",
       "      <td>44.6M</td>\n",
       "    </tr>\n",
       "    <tr>\n",
       "      <th>3</th>\n",
       "      <td>2017</td>\n",
       "      <td>35095195</td>\n",
       "      <td>35.1M</td>\n",
       "    </tr>\n",
       "    <tr>\n",
       "      <th>4</th>\n",
       "      <td>2016</td>\n",
       "      <td>41582229</td>\n",
       "      <td>41.6M</td>\n",
       "    </tr>\n",
       "    <tr>\n",
       "      <th>5</th>\n",
       "      <td>2015</td>\n",
       "      <td>37894191</td>\n",
       "      <td>37.9M</td>\n",
       "    </tr>\n",
       "    <tr>\n",
       "      <th>6</th>\n",
       "      <td>2014</td>\n",
       "      <td>34919173</td>\n",
       "      <td>34.9M</td>\n",
       "    </tr>\n",
       "    <tr>\n",
       "      <th>7</th>\n",
       "      <td>2013</td>\n",
       "      <td>27600898</td>\n",
       "      <td>27.6M</td>\n",
       "    </tr>\n",
       "    <tr>\n",
       "      <th>8</th>\n",
       "      <td>2012</td>\n",
       "      <td>28807552</td>\n",
       "      <td>28.8M</td>\n",
       "    </tr>\n",
       "    <tr>\n",
       "      <th>9</th>\n",
       "      <td>2011</td>\n",
       "      <td>31392058</td>\n",
       "      <td>31.4M</td>\n",
       "    </tr>\n",
       "  </tbody>\n",
       "</table>\n",
       "</div>"
      ],
      "text/plain": [
       "   year  number_of_strikes number_of_strikes_readable\n",
       "0  2020           15620068                      15.6M\n",
       "1  2019             209166                       209K\n",
       "2  2018           44600989                      44.6M\n",
       "3  2017           35095195                      35.1M\n",
       "4  2016           41582229                      41.6M\n",
       "5  2015           37894191                      37.9M\n",
       "6  2014           34919173                      34.9M\n",
       "7  2013           27600898                      27.6M\n",
       "8  2012           28807552                      28.8M\n",
       "9  2011           31392058                      31.4M"
      ]
     },
     "execution_count": 51,
     "metadata": {},
     "output_type": "execute_result"
    }
   ],
   "source": [
    "df.head(10)"
   ]
  },
  {
   "cell_type": "code",
   "execution_count": 52,
   "metadata": {},
   "outputs": [
    {
     "name": "stdout",
     "output_type": "stream",
     "text": [
      "Mean:26.8M\n",
      "Median:28.3M\n"
     ]
    }
   ],
   "source": [
    "print(\"Mean:\" + readable_numbers(np.mean(df['number_of_strikes'])))\n",
    "print(\"Median:\" + readable_numbers(np.median(df['number_of_strikes'])))"
   ]
  },
  {
   "cell_type": "markdown",
   "metadata": {},
   "source": [
    "I'll utilize a boxplot as a visual tool to effectively analyze data distribution by percentiles and quartiles. These are key summary statistics that provide valuable insights into the dataset. The central shaded portion of the box in the boxplot signifies the middle 50th percentile of the data points, encapsulating what is known as the interquartile range (IQR).\n",
    "\n",
    "The boxplot includes \"whiskers\" that extend to 1.5 times the IQR by default. These whiskers help identify the range of the data and highlight any potential outliers beyond the typical range. This graphical representation will contribute to a clearer understanding of the distribution and variability of the data in the context of my project analysis."
   ]
  },
  {
   "cell_type": "code",
   "execution_count": 53,
   "metadata": {},
   "outputs": [
    {
     "data": {
      "image/png": "[encoded data removed]",
      "text/plain": [
       "<Figure size 640x480 with 1 Axes>"
      ]
     },
     "metadata": {},
     "output_type": "display_data"
    }
   ],
   "source": [
    "# Create boxplot\n",
    "box = sns.boxplot(x=df['number_of_strikes'])\n",
    "\n",
    "# Get current axis\n",
    "g = plt.gca() # Get the current Axes instance from the Matplotlib pyplot module and store it in the variable g.\n",
    "\n",
    "# Set x-axis tick positions and labels\n",
    "xticks = g.get_xticks() # Get the x-axis tick positions from the current Axes (g) and store them in the variable xticks.\n",
    "box.set_xticks(xticks) #Set the x-axis tick positions of the boxplot to the values obtained in the previous step (xticks).\n",
    "box.set_xticklabels(np.array([readable_numbers(x) for x in xticks]))\n",
    "\n",
    "plt.xlabel('Number of strikes')\n",
    "plt.title('Yearly number of lightning strikes')\n",
    "plt.show()"
   ]
  },
  {
   "cell_type": "markdown",
   "metadata": {},
   "source": [
    "The points to the left of the left whisker are outliers.  \n",
    "Any observations that are more than 1.5 IQR below Q1 or more than 1.5 IQR above Q3 are considered outliers.\n",
    "\n"
   ]
  },
  {
   "attachments": {
    "image.png": {
     "image/png": "[encoded data removed]"
    }
   },
   "cell_type": "markdown",
   "metadata": {},
   "source": [
    "![image.png](attachment:image.png)\n",
    "\n",
    "A box plot tells us, more or less, about the distribution of the data. It gives a sense of how much the data is actually spread about, what’s its range, and about its skewness. As you might have noticed in the figure, that a box plot enables us to draw inference from it for an ordered data, i.e., it tells us about the various metrics of a data arranged in ascending order.\n",
    "\n",
    "In the above figure,\n",
    "* minimum is the minimum value in the dataset,\n",
    "* and maximum is the maximum value in the dataset.\n",
    "\n",
    "So the difference between the two tells us about the range of dataset.\n",
    "* The median is the median (or centre point), also called second quartile, of the data (resulting from the fact that the data is ordered).\n",
    "* Q1 is the first quartile of the data, i.e., to say 25% of the data lies between minimum and Q1.\n",
    "* Q3 is the third quartile of the data, i.e., to say 75% of the data lies between minimum and Q3.\n",
    "\n",
    "The difference between Q3 and Q1 is called the Inter-Quartile Range or IQR.\n",
    "\n",
    "**IQR = Q3 - Q1**\n",
    "\n",
    "To detect the outliers using this method, we define a new range, let’s call it decision range, and any data point lying outside this range is considered as outlier and is accordingly dealt with. The range is as given below:\n",
    "\n",
    "Lower Bound: **(Q1 - 1.5 * IQR)** (Lower limit)  \n",
    "Upper Bound: **(Q3 + 1.5 * IQR)** (Upper limit)   \n",
    "\n",
    "Any data point less than the Lower Bound or more than the Upper Bound is considered as an **outlier**."
   ]
  },
  {
   "cell_type": "markdown",
   "metadata": {},
   "source": [
    "Reference: \n",
    "https://towardsdatascience.com/why-1-5-in-iqr-method-of-outlier-detection-5d07fdc82097"
   ]
  },
  {
   "cell_type": "markdown",
   "metadata": {},
   "source": [
    "Define IQR, upper, and lower limit."
   ]
  },
  {
   "cell_type": "code",
   "execution_count": 54,
   "metadata": {},
   "outputs": [
    {
     "name": "stdout",
     "output_type": "stream",
     "text": [
      "Lower limit is: 8.6M\n",
      "Upper limit is: 47.4M\n"
     ]
    }
   ],
   "source": [
    "# Calculate 25th percentile of annual strikes\n",
    "percentile25 = df['number_of_strikes'].quantile(0.25)\n",
    "\n",
    "# Calculate 75th percentile of annual strikes\n",
    "percentile75 = df['number_of_strikes'].quantile(0.75)\n",
    "\n",
    "# Calculate interquartile range\n",
    "iqr = percentile75 - percentile25\n",
    "\n",
    "# Calculate upper and lower thresholds for outliers\n",
    "lower_limit = percentile25 - 1.5 * iqr\n",
    "upper_limit = percentile75 + 1.5 * iqr\n",
    "\n",
    "print('Lower limit is: '+ readable_numbers(lower_limit))\n",
    "print('Upper limit is: '+ readable_numbers(upper_limit))"
   ]
  },
  {
   "cell_type": "markdown",
   "metadata": {},
   "source": [
    "Use a Boolean mask to select only the rows of the dataframe where the number of strikes is less than the lower limit we calculated above. These rows are the outliers on the lower end."
   ]
  },
  {
   "cell_type": "code",
   "execution_count": 55,
   "metadata": {},
   "outputs": [
    {
     "data": {
      "text/html": [
       "<div>\n",
       "<style scoped>\n",
       "    .dataframe tbody tr th:only-of-type {\n",
       "        vertical-align: middle;\n",
       "    }\n",
       "\n",
       "    .dataframe tbody tr th {\n",
       "        vertical-align: top;\n",
       "    }\n",
       "\n",
       "    .dataframe thead th {\n",
       "        text-align: right;\n",
       "    }\n",
       "</style>\n",
       "<table border=\"1\" class=\"dataframe\">\n",
       "  <thead>\n",
       "    <tr style=\"text-align: right;\">\n",
       "      <th></th>\n",
       "      <th>year</th>\n",
       "      <th>number_of_strikes</th>\n",
       "      <th>number_of_strikes_readable</th>\n",
       "    </tr>\n",
       "  </thead>\n",
       "  <tbody>\n",
       "    <tr>\n",
       "      <th>1</th>\n",
       "      <td>2019</td>\n",
       "      <td>209166</td>\n",
       "      <td>209K</td>\n",
       "    </tr>\n",
       "    <tr>\n",
       "      <th>33</th>\n",
       "      <td>1987</td>\n",
       "      <td>7378836</td>\n",
       "      <td>7.4M</td>\n",
       "    </tr>\n",
       "  </tbody>\n",
       "</table>\n",
       "</div>"
      ],
      "text/plain": [
       "    year  number_of_strikes number_of_strikes_readable\n",
       "1   2019             209166                       209K\n",
       "33  1987            7378836                       7.4M"
      ]
     },
     "execution_count": 55,
     "metadata": {},
     "output_type": "execute_result"
    }
   ],
   "source": [
    "# Isolate outliers on lower end\n",
    "df[df['number_of_strikes'] < lower_limit]"
   ]
  },
  {
   "cell_type": "code",
   "execution_count": 56,
   "metadata": {},
   "outputs": [
    {
     "data": {
      "text/html": [
       "<div>\n",
       "<style scoped>\n",
       "    .dataframe tbody tr th:only-of-type {\n",
       "        vertical-align: middle;\n",
       "    }\n",
       "\n",
       "    .dataframe tbody tr th {\n",
       "        vertical-align: top;\n",
       "    }\n",
       "\n",
       "    .dataframe thead th {\n",
       "        text-align: right;\n",
       "    }\n",
       "</style>\n",
       "<table border=\"1\" class=\"dataframe\">\n",
       "  <thead>\n",
       "    <tr style=\"text-align: right;\">\n",
       "      <th></th>\n",
       "      <th>year</th>\n",
       "      <th>number_of_strikes</th>\n",
       "      <th>number_of_strikes_readable</th>\n",
       "    </tr>\n",
       "  </thead>\n",
       "  <tbody>\n",
       "  </tbody>\n",
       "</table>\n",
       "</div>"
      ],
      "text/plain": [
       "Empty DataFrame\n",
       "Columns: [year, number_of_strikes, number_of_strikes_readable]\n",
       "Index: []"
      ]
     },
     "execution_count": 56,
     "metadata": {},
     "output_type": "execute_result"
    }
   ],
   "source": [
    "# Isolate outliers on upper end\n",
    "df[df['number_of_strikes'] > upper_limit]\n",
    "# From the result we do not see any outliers"
   ]
  },
  {
   "cell_type": "markdown",
   "metadata": {},
   "source": [
    "Get a visual of all of the data points with the outlier values colored red."
   ]
  },
  {
   "cell_type": "code",
   "execution_count": 57,
   "metadata": {},
   "outputs": [
    {
     "data": {
      "image/png": "[encoded data removed]",
      "text/plain": [
       "<Figure size 1600x800 with 1 Axes>"
      ]
     },
     "metadata": {},
     "output_type": "display_data"
    }
   ],
   "source": [
    "# Show different color for outliers\n",
    "colors = np.where(df['number_of_strikes'] < lower_limit, 'r', 'b')\n",
    "\n",
    "plt.figure(figsize=(16, 8))\n",
    "plt.scatter(df['year'], df['number_of_strikes'], c=colors)\n",
    "plt.xlabel('Year')\n",
    "plt.ylabel('Number of strikes')\n",
    "plt.title('Number of lightning strikes by year')\n",
    "\n",
    "# Rotate every other label for better readability\n",
    "plt.xticks(rotation=45)\n",
    "\n",
    "# Add labels for each data point\n",
    "for i, (x, y) in enumerate(zip(df['year'], df['number_of_strikes'])):\n",
    "    plt.text(x - 0.5, y + 500000, s=readable_numbers(y))"
   ]
  },
  {
   "cell_type": "markdown",
   "metadata": {},
   "source": [
    "### Investigating the outliers 2019 and 1987\n",
    "\n",
    "Examine the two outlier years a bit more closely. In the section above, I used a preprocessed dataset that didn't include a lot of the information that we're accustomed to having in this data. In order to further investigate the outlier years, more information is required, do so by importing data from these years specifically."
   ]
  },
  {
   "cell_type": "markdown",
   "metadata": {},
   "source": [
    "#### Import data for 2019"
   ]
  },
  {
   "cell_type": "code",
   "execution_count": 58,
   "metadata": {},
   "outputs": [],
   "source": [
    "df_2019 = pd.read_csv('eda_outliers_dataset2.csv')"
   ]
  },
  {
   "cell_type": "code",
   "execution_count": 59,
   "metadata": {},
   "outputs": [
    {
     "data": {
      "text/html": [
       "<div>\n",
       "<style scoped>\n",
       "    .dataframe tbody tr th:only-of-type {\n",
       "        vertical-align: middle;\n",
       "    }\n",
       "\n",
       "    .dataframe tbody tr th {\n",
       "        vertical-align: top;\n",
       "    }\n",
       "\n",
       "    .dataframe thead th {\n",
       "        text-align: right;\n",
       "    }\n",
       "</style>\n",
       "<table border=\"1\" class=\"dataframe\">\n",
       "  <thead>\n",
       "    <tr style=\"text-align: right;\">\n",
       "      <th></th>\n",
       "      <th>date</th>\n",
       "      <th>number_of_strikes</th>\n",
       "      <th>center_point_geom</th>\n",
       "    </tr>\n",
       "  </thead>\n",
       "  <tbody>\n",
       "    <tr>\n",
       "      <th>0</th>\n",
       "      <td>2019-12-01</td>\n",
       "      <td>1</td>\n",
       "      <td>POINT(-79.7 35.3)</td>\n",
       "    </tr>\n",
       "    <tr>\n",
       "      <th>1</th>\n",
       "      <td>2019-12-01</td>\n",
       "      <td>1</td>\n",
       "      <td>POINT(-84.7 39.3)</td>\n",
       "    </tr>\n",
       "    <tr>\n",
       "      <th>2</th>\n",
       "      <td>2019-12-01</td>\n",
       "      <td>1</td>\n",
       "      <td>POINT(-83.4 38.9)</td>\n",
       "    </tr>\n",
       "    <tr>\n",
       "      <th>3</th>\n",
       "      <td>2019-12-01</td>\n",
       "      <td>1</td>\n",
       "      <td>POINT(-71.5 35.2)</td>\n",
       "    </tr>\n",
       "    <tr>\n",
       "      <th>4</th>\n",
       "      <td>2019-12-01</td>\n",
       "      <td>1</td>\n",
       "      <td>POINT(-87.8 41.6)</td>\n",
       "    </tr>\n",
       "  </tbody>\n",
       "</table>\n",
       "</div>"
      ],
      "text/plain": [
       "         date  number_of_strikes  center_point_geom\n",
       "0  2019-12-01                  1  POINT(-79.7 35.3)\n",
       "1  2019-12-01                  1  POINT(-84.7 39.3)\n",
       "2  2019-12-01                  1  POINT(-83.4 38.9)\n",
       "3  2019-12-01                  1  POINT(-71.5 35.2)\n",
       "4  2019-12-01                  1  POINT(-87.8 41.6)"
      ]
     },
     "execution_count": 59,
     "metadata": {},
     "output_type": "execute_result"
    }
   ],
   "source": [
    "df_2019.head()"
   ]
  },
  {
   "cell_type": "markdown",
   "metadata": {},
   "source": [
    "Convert the `date` column to datetime. This allows extracting two new columns: `month` and `month_txt`. Then, check year 2019 for the number of months contained."
   ]
  },
  {
   "cell_type": "code",
   "execution_count": 60,
   "metadata": {},
   "outputs": [
    {
     "data": {
      "text/html": [
       "<div>\n",
       "<style scoped>\n",
       "    .dataframe tbody tr th:only-of-type {\n",
       "        vertical-align: middle;\n",
       "    }\n",
       "\n",
       "    .dataframe tbody tr th {\n",
       "        vertical-align: top;\n",
       "    }\n",
       "\n",
       "    .dataframe thead th {\n",
       "        text-align: right;\n",
       "    }\n",
       "</style>\n",
       "<table border=\"1\" class=\"dataframe\">\n",
       "  <thead>\n",
       "    <tr style=\"text-align: right;\">\n",
       "      <th></th>\n",
       "      <th>date</th>\n",
       "      <th>number_of_strikes</th>\n",
       "      <th>center_point_geom</th>\n",
       "      <th>month</th>\n",
       "      <th>month_txt</th>\n",
       "    </tr>\n",
       "  </thead>\n",
       "  <tbody>\n",
       "    <tr>\n",
       "      <th>0</th>\n",
       "      <td>2019-12-01</td>\n",
       "      <td>1</td>\n",
       "      <td>POINT(-79.7 35.3)</td>\n",
       "      <td>12</td>\n",
       "      <td>Dec</td>\n",
       "    </tr>\n",
       "    <tr>\n",
       "      <th>1</th>\n",
       "      <td>2019-12-01</td>\n",
       "      <td>1</td>\n",
       "      <td>POINT(-84.7 39.3)</td>\n",
       "      <td>12</td>\n",
       "      <td>Dec</td>\n",
       "    </tr>\n",
       "    <tr>\n",
       "      <th>2</th>\n",
       "      <td>2019-12-01</td>\n",
       "      <td>1</td>\n",
       "      <td>POINT(-83.4 38.9)</td>\n",
       "      <td>12</td>\n",
       "      <td>Dec</td>\n",
       "    </tr>\n",
       "    <tr>\n",
       "      <th>3</th>\n",
       "      <td>2019-12-01</td>\n",
       "      <td>1</td>\n",
       "      <td>POINT(-71.5 35.2)</td>\n",
       "      <td>12</td>\n",
       "      <td>Dec</td>\n",
       "    </tr>\n",
       "    <tr>\n",
       "      <th>4</th>\n",
       "      <td>2019-12-01</td>\n",
       "      <td>1</td>\n",
       "      <td>POINT(-87.8 41.6)</td>\n",
       "      <td>12</td>\n",
       "      <td>Dec</td>\n",
       "    </tr>\n",
       "  </tbody>\n",
       "</table>\n",
       "</div>"
      ],
      "text/plain": [
       "        date  number_of_strikes  center_point_geom  month month_txt\n",
       "0 2019-12-01                  1  POINT(-79.7 35.3)     12       Dec\n",
       "1 2019-12-01                  1  POINT(-84.7 39.3)     12       Dec\n",
       "2 2019-12-01                  1  POINT(-83.4 38.9)     12       Dec\n",
       "3 2019-12-01                  1  POINT(-71.5 35.2)     12       Dec\n",
       "4 2019-12-01                  1  POINT(-87.8 41.6)     12       Dec"
      ]
     },
     "execution_count": 60,
     "metadata": {},
     "output_type": "execute_result"
    }
   ],
   "source": [
    "# Convert `date` column to datetime\n",
    "df_2019['date']= pd.to_datetime(df_2019['date'])\n",
    "\n",
    "# Create 2 new columns\n",
    "df_2019['month'] = df_2019['date'].dt.month\n",
    "df_2019['month_txt'] = df_2019['date'].dt.month_name().str.slice(stop=3)\n",
    "\n",
    "df_2019.head()\n"
   ]
  },
  {
   "cell_type": "markdown",
   "metadata": {},
   "source": [
    "Check the count of values for each month in year 2019 and sort by month."
   ]
  },
  {
   "cell_type": "code",
   "execution_count": 61,
   "metadata": {},
   "outputs": [
    {
     "data": {
      "text/plain": [
       "month_txt\n",
       "Aug    332540\n",
       "Jul    298028\n",
       "Sep    239564\n",
       "Jun    197626\n",
       "May    129497\n",
       "Apr     51006\n",
       "Nov     50261\n",
       "Mar     43147\n",
       "Oct     37978\n",
       "Feb     27338\n",
       "Dec     20810\n",
       "Jan     13439\n",
       "Name: count, dtype: int64"
      ]
     },
     "execution_count": 61,
     "metadata": {},
     "output_type": "execute_result"
    }
   ],
   "source": [
    "df_1987['month_txt'].value_counts()"
   ]
  },
  {
   "cell_type": "markdown",
   "metadata": {},
   "source": [
    "2019 appears to have data only for the month of December. The likelihood of there not being any lightning from January to November 2019 is ~0. This appears to be a case of missing data. We should probably exclude 2019 from the analysis (for most use cases)."
   ]
  },
  {
   "cell_type": "markdown",
   "metadata": {},
   "source": [
    "#### Import data for 1987\n",
    "\n",
    "Inspect the data from the other outlier year, 1987.\n"
   ]
  },
  {
   "cell_type": "code",
   "execution_count": 62,
   "metadata": {},
   "outputs": [],
   "source": [
    "# Read in 1987 data\n",
    "df_1987 = pd.read_csv('eda_outliers_dataset3.csv')"
   ]
  },
  {
   "cell_type": "markdown",
   "metadata": {},
   "source": [
    "This code block use the same datetime conversions and groupings done previously for year 2019"
   ]
  },
  {
   "cell_type": "code",
   "execution_count": 63,
   "metadata": {},
   "outputs": [
    {
     "data": {
      "text/html": [
       "<div>\n",
       "<style scoped>\n",
       "    .dataframe tbody tr th:only-of-type {\n",
       "        vertical-align: middle;\n",
       "    }\n",
       "\n",
       "    .dataframe tbody tr th {\n",
       "        vertical-align: top;\n",
       "    }\n",
       "\n",
       "    .dataframe thead th {\n",
       "        text-align: right;\n",
       "    }\n",
       "</style>\n",
       "<table border=\"1\" class=\"dataframe\">\n",
       "  <thead>\n",
       "    <tr style=\"text-align: right;\">\n",
       "      <th></th>\n",
       "      <th>date</th>\n",
       "      <th>number_of_strikes</th>\n",
       "      <th>center_point_geom</th>\n",
       "      <th>month</th>\n",
       "      <th>month_txt</th>\n",
       "    </tr>\n",
       "  </thead>\n",
       "  <tbody>\n",
       "    <tr>\n",
       "      <th>0</th>\n",
       "      <td>1987-01-01</td>\n",
       "      <td>21</td>\n",
       "      <td>POINT(-80.7 26)</td>\n",
       "      <td>1</td>\n",
       "      <td>Jan</td>\n",
       "    </tr>\n",
       "    <tr>\n",
       "      <th>1</th>\n",
       "      <td>1987-01-04</td>\n",
       "      <td>23</td>\n",
       "      <td>POINT(-83.2 28.3)</td>\n",
       "      <td>1</td>\n",
       "      <td>Jan</td>\n",
       "    </tr>\n",
       "    <tr>\n",
       "      <th>2</th>\n",
       "      <td>1987-01-05</td>\n",
       "      <td>40</td>\n",
       "      <td>POINT(-78.9 31.3)</td>\n",
       "      <td>1</td>\n",
       "      <td>Jan</td>\n",
       "    </tr>\n",
       "    <tr>\n",
       "      <th>3</th>\n",
       "      <td>1987-01-05</td>\n",
       "      <td>20</td>\n",
       "      <td>POINT(-79.2 31.4)</td>\n",
       "      <td>1</td>\n",
       "      <td>Jan</td>\n",
       "    </tr>\n",
       "    <tr>\n",
       "      <th>4</th>\n",
       "      <td>1987-01-05</td>\n",
       "      <td>21</td>\n",
       "      <td>POINT(-80.1 31.4)</td>\n",
       "      <td>1</td>\n",
       "      <td>Jan</td>\n",
       "    </tr>\n",
       "  </tbody>\n",
       "</table>\n",
       "</div>"
      ],
      "text/plain": [
       "        date  number_of_strikes  center_point_geom  month month_txt\n",
       "0 1987-01-01                 21    POINT(-80.7 26)      1       Jan\n",
       "1 1987-01-04                 23  POINT(-83.2 28.3)      1       Jan\n",
       "2 1987-01-05                 40  POINT(-78.9 31.3)      1       Jan\n",
       "3 1987-01-05                 20  POINT(-79.2 31.4)      1       Jan\n",
       "4 1987-01-05                 21  POINT(-80.1 31.4)      1       Jan"
      ]
     },
     "execution_count": 63,
     "metadata": {},
     "output_type": "execute_result"
    }
   ],
   "source": [
    "# Convert `date` column to datetime\n",
    "df_1987['date'] = pd.to_datetime(df_1987['date'])\n",
    "\n",
    "# Create 2 new columns\n",
    "df_1987['month'] = df_1987['date'].dt.month\n",
    "df_1987['month_txt'] = df_1987['date'].dt.month_name().str.slice(stop=3)\n",
    "\n",
    "df_1987.head()\n"
   ]
  },
  {
   "cell_type": "markdown",
   "metadata": {},
   "source": [
    "Check the count of values for each month in year 1987"
   ]
  },
  {
   "cell_type": "code",
   "execution_count": 64,
   "metadata": {},
   "outputs": [
    {
     "data": {
      "text/plain": [
       "month_txt\n",
       "Aug    332540\n",
       "Jul    298028\n",
       "Sep    239564\n",
       "Jun    197626\n",
       "May    129497\n",
       "Apr     51006\n",
       "Nov     50261\n",
       "Mar     43147\n",
       "Oct     37978\n",
       "Feb     27338\n",
       "Dec     20810\n",
       "Jan     13439\n",
       "Name: count, dtype: int64"
      ]
     },
     "execution_count": 64,
     "metadata": {},
     "output_type": "execute_result"
    }
   ],
   "source": [
    "df_1987['month_txt'].value_counts()"
   ]
  },
  {
   "cell_type": "markdown",
   "metadata": {},
   "source": [
    "1987 has data for every month of the year. Hence, this outlier should be treated differently than 2019, which is missing data. \n",
    "\n",
    "Run the mean and median after removing the outliers. \n",
    "\n"
   ]
  },
  {
   "cell_type": "code",
   "execution_count": 65,
   "metadata": {},
   "outputs": [
    {
     "name": "stdout",
     "output_type": "stream",
     "text": [
      "Mean:28.2M\n",
      "Median:28.8M\n"
     ]
    }
   ],
   "source": [
    "# Recalculate mean and median values on data without outliers\n",
    "print(\"Mean:\" + readable_numbers(np.mean(df_without_outliers['number_of_strikes'])))\n",
    "print(\"Median:\" + readable_numbers(np.median(df_without_outliers['number_of_strikes'])))"
   ]
  },
  {
   "cell_type": "markdown",
   "metadata": {},
   "source": [
    "The outliers significantly affect the dataset's mean, but do not significantly affect the median. \n",
    "\n",
    "With outliers  \n",
    "* Mean: 26.8M  \n",
    "* Median: 28.3M"
   ]
  },
  {
   "cell_type": "markdown",
   "metadata": {},
   "source": [
    "To remove the outliers, we'll use a Boolean mask to create a new dataframe that contains only the rows in the original dataframe where the number of strikes >= the lower limit we calculated above."
   ]
  },
  {
   "cell_type": "code",
   "execution_count": 66,
   "metadata": {},
   "outputs": [],
   "source": [
    "# Create new df that removes outliers\n",
    "df_without_outliers = df[df['number_of_strikes'] >= lower_limit]"
   ]
  },
  {
   "cell_type": "code",
   "execution_count": 67,
   "metadata": {},
   "outputs": [
    {
     "data": {
      "text/html": [
       "<div>\n",
       "<style scoped>\n",
       "    .dataframe tbody tr th:only-of-type {\n",
       "        vertical-align: middle;\n",
       "    }\n",
       "\n",
       "    .dataframe tbody tr th {\n",
       "        vertical-align: top;\n",
       "    }\n",
       "\n",
       "    .dataframe thead th {\n",
       "        text-align: right;\n",
       "    }\n",
       "</style>\n",
       "<table border=\"1\" class=\"dataframe\">\n",
       "  <thead>\n",
       "    <tr style=\"text-align: right;\">\n",
       "      <th></th>\n",
       "      <th>year</th>\n",
       "      <th>number_of_strikes</th>\n",
       "      <th>number_of_strikes_readable</th>\n",
       "    </tr>\n",
       "  </thead>\n",
       "  <tbody>\n",
       "    <tr>\n",
       "      <th>0</th>\n",
       "      <td>2020</td>\n",
       "      <td>15620068</td>\n",
       "      <td>15.6M</td>\n",
       "    </tr>\n",
       "    <tr>\n",
       "      <th>2</th>\n",
       "      <td>2018</td>\n",
       "      <td>44600989</td>\n",
       "      <td>44.6M</td>\n",
       "    </tr>\n",
       "    <tr>\n",
       "      <th>3</th>\n",
       "      <td>2017</td>\n",
       "      <td>35095195</td>\n",
       "      <td>35.1M</td>\n",
       "    </tr>\n",
       "    <tr>\n",
       "      <th>4</th>\n",
       "      <td>2016</td>\n",
       "      <td>41582229</td>\n",
       "      <td>41.6M</td>\n",
       "    </tr>\n",
       "    <tr>\n",
       "      <th>5</th>\n",
       "      <td>2015</td>\n",
       "      <td>37894191</td>\n",
       "      <td>37.9M</td>\n",
       "    </tr>\n",
       "    <tr>\n",
       "      <th>6</th>\n",
       "      <td>2014</td>\n",
       "      <td>34919173</td>\n",
       "      <td>34.9M</td>\n",
       "    </tr>\n",
       "    <tr>\n",
       "      <th>7</th>\n",
       "      <td>2013</td>\n",
       "      <td>27600898</td>\n",
       "      <td>27.6M</td>\n",
       "    </tr>\n",
       "    <tr>\n",
       "      <th>8</th>\n",
       "      <td>2012</td>\n",
       "      <td>28807552</td>\n",
       "      <td>28.8M</td>\n",
       "    </tr>\n",
       "    <tr>\n",
       "      <th>9</th>\n",
       "      <td>2011</td>\n",
       "      <td>31392058</td>\n",
       "      <td>31.4M</td>\n",
       "    </tr>\n",
       "    <tr>\n",
       "      <th>10</th>\n",
       "      <td>2010</td>\n",
       "      <td>29068965</td>\n",
       "      <td>29.1M</td>\n",
       "    </tr>\n",
       "    <tr>\n",
       "      <th>11</th>\n",
       "      <td>2009</td>\n",
       "      <td>30100585</td>\n",
       "      <td>30.1M</td>\n",
       "    </tr>\n",
       "    <tr>\n",
       "      <th>12</th>\n",
       "      <td>2008</td>\n",
       "      <td>29790934</td>\n",
       "      <td>29.8M</td>\n",
       "    </tr>\n",
       "    <tr>\n",
       "      <th>13</th>\n",
       "      <td>2007</td>\n",
       "      <td>30529064</td>\n",
       "      <td>30.5M</td>\n",
       "    </tr>\n",
       "    <tr>\n",
       "      <th>14</th>\n",
       "      <td>2006</td>\n",
       "      <td>33292382</td>\n",
       "      <td>33.3M</td>\n",
       "    </tr>\n",
       "    <tr>\n",
       "      <th>15</th>\n",
       "      <td>2005</td>\n",
       "      <td>38168699</td>\n",
       "      <td>38.2M</td>\n",
       "    </tr>\n",
       "    <tr>\n",
       "      <th>16</th>\n",
       "      <td>2004</td>\n",
       "      <td>40023951</td>\n",
       "      <td>40.0M</td>\n",
       "    </tr>\n",
       "    <tr>\n",
       "      <th>17</th>\n",
       "      <td>2003</td>\n",
       "      <td>39092327</td>\n",
       "      <td>39.1M</td>\n",
       "    </tr>\n",
       "    <tr>\n",
       "      <th>18</th>\n",
       "      <td>2002</td>\n",
       "      <td>29916767</td>\n",
       "      <td>29.9M</td>\n",
       "    </tr>\n",
       "    <tr>\n",
       "      <th>19</th>\n",
       "      <td>2001</td>\n",
       "      <td>25470095</td>\n",
       "      <td>25.5M</td>\n",
       "    </tr>\n",
       "    <tr>\n",
       "      <th>20</th>\n",
       "      <td>2000</td>\n",
       "      <td>26276135</td>\n",
       "      <td>26.3M</td>\n",
       "    </tr>\n",
       "    <tr>\n",
       "      <th>21</th>\n",
       "      <td>1999</td>\n",
       "      <td>27758681</td>\n",
       "      <td>27.8M</td>\n",
       "    </tr>\n",
       "    <tr>\n",
       "      <th>22</th>\n",
       "      <td>1998</td>\n",
       "      <td>28802221</td>\n",
       "      <td>28.8M</td>\n",
       "    </tr>\n",
       "    <tr>\n",
       "      <th>23</th>\n",
       "      <td>1997</td>\n",
       "      <td>26986915</td>\n",
       "      <td>27.0M</td>\n",
       "    </tr>\n",
       "    <tr>\n",
       "      <th>24</th>\n",
       "      <td>1996</td>\n",
       "      <td>26190094</td>\n",
       "      <td>26.2M</td>\n",
       "    </tr>\n",
       "    <tr>\n",
       "      <th>25</th>\n",
       "      <td>1995</td>\n",
       "      <td>22763540</td>\n",
       "      <td>22.8M</td>\n",
       "    </tr>\n",
       "    <tr>\n",
       "      <th>26</th>\n",
       "      <td>1994</td>\n",
       "      <td>25094010</td>\n",
       "      <td>25.1M</td>\n",
       "    </tr>\n",
       "    <tr>\n",
       "      <th>27</th>\n",
       "      <td>1993</td>\n",
       "      <td>24206929</td>\n",
       "      <td>24.2M</td>\n",
       "    </tr>\n",
       "    <tr>\n",
       "      <th>28</th>\n",
       "      <td>1992</td>\n",
       "      <td>16371876</td>\n",
       "      <td>16.4M</td>\n",
       "    </tr>\n",
       "    <tr>\n",
       "      <th>29</th>\n",
       "      <td>1991</td>\n",
       "      <td>16900934</td>\n",
       "      <td>16.9M</td>\n",
       "    </tr>\n",
       "    <tr>\n",
       "      <th>30</th>\n",
       "      <td>1990</td>\n",
       "      <td>15839052</td>\n",
       "      <td>15.8M</td>\n",
       "    </tr>\n",
       "    <tr>\n",
       "      <th>31</th>\n",
       "      <td>1989</td>\n",
       "      <td>14245186</td>\n",
       "      <td>14.2M</td>\n",
       "    </tr>\n",
       "    <tr>\n",
       "      <th>32</th>\n",
       "      <td>1988</td>\n",
       "      <td>9150440</td>\n",
       "      <td>9.2M</td>\n",
       "    </tr>\n",
       "  </tbody>\n",
       "</table>\n",
       "</div>"
      ],
      "text/plain": [
       "    year  number_of_strikes number_of_strikes_readable\n",
       "0   2020           15620068                      15.6M\n",
       "2   2018           44600989                      44.6M\n",
       "3   2017           35095195                      35.1M\n",
       "4   2016           41582229                      41.6M\n",
       "5   2015           37894191                      37.9M\n",
       "6   2014           34919173                      34.9M\n",
       "7   2013           27600898                      27.6M\n",
       "8   2012           28807552                      28.8M\n",
       "9   2011           31392058                      31.4M\n",
       "10  2010           29068965                      29.1M\n",
       "11  2009           30100585                      30.1M\n",
       "12  2008           29790934                      29.8M\n",
       "13  2007           30529064                      30.5M\n",
       "14  2006           33292382                      33.3M\n",
       "15  2005           38168699                      38.2M\n",
       "16  2004           40023951                      40.0M\n",
       "17  2003           39092327                      39.1M\n",
       "18  2002           29916767                      29.9M\n",
       "19  2001           25470095                      25.5M\n",
       "20  2000           26276135                      26.3M\n",
       "21  1999           27758681                      27.8M\n",
       "22  1998           28802221                      28.8M\n",
       "23  1997           26986915                      27.0M\n",
       "24  1996           26190094                      26.2M\n",
       "25  1995           22763540                      22.8M\n",
       "26  1994           25094010                      25.1M\n",
       "27  1993           24206929                      24.2M\n",
       "28  1992           16371876                      16.4M\n",
       "29  1991           16900934                      16.9M\n",
       "30  1990           15839052                      15.8M\n",
       "31  1989           14245186                      14.2M\n",
       "32  1988            9150440                       9.2M"
      ]
     },
     "execution_count": 67,
     "metadata": {},
     "output_type": "execute_result"
    }
   ],
   "source": [
    "df_without_outliers"
   ]
  },
  {
   "cell_type": "markdown",
   "metadata": {},
   "source": [
    "Now the new dataframe does not contain outliers which is year 2019 and 1987"
   ]
  }
 ],
 "metadata": {
  "kernelspec": {
   "display_name": "base",
   "language": "python",
   "name": "python3"
  },
  "language_info": {
   "codemirror_mode": {
    "name": "ipython",
    "version": 3
   },
   "file_extension": ".py",
   "mimetype": "text/x-python",
   "name": "python",
   "nbconvert_exporter": "python",
   "pygments_lexer": "ipython3",
   "version": "3.11.5"
  }
 },
 "nbformat": 4,
 "nbformat_minor": 2
}
